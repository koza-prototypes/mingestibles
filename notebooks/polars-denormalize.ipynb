{
 "cells": [
  {
   "cell_type": "code",
   "execution_count": null,
   "id": "initial_id",
   "metadata": {
    "collapsed": true
   },
   "outputs": [],
   "source": [
    "!pip install polars\n",
    "#uncompress the kg\n",
    "!tar -xvf ../output/monarch-kg.tar.gz -C ../output/    "
   ]
  },
  {
   "cell_type": "code",
   "execution_count": null,
   "outputs": [],
   "source": [
    "\n"
   ],
   "metadata": {
    "collapsed": false
   },
   "id": "a26dd5c9d2eabbc7"
  },
  {
   "cell_type": "code",
   "execution_count": 11,
   "outputs": [
    {
     "name": "stdout",
     "output_type": "stream",
     "text": [
      "CPU times: user 11.8 s, sys: 8.6 s, total: 20.4 s\n",
      "Wall time: 10.7 s\n"
     ]
    }
   ],
   "source": [
    "%%time\n",
    "\n",
    "import polars as pl\n",
    "# read node and edge tsv files\n",
    "\n",
    "nodes = pl.read_csv(\"../output/monarch-kg_nodes.tsv\", separator=\"\\t\")\n",
    "edges = pl.read_csv(\"../output/monarch-kg_edges.tsv\", separator=\"\\t\")\n",
    "\n",
    "closure = (pl.read_csv(\"../data/monarch/phenio-relation-filtered.tsv\", \n",
    "                      separator=\"\\t\", \n",
    "                      has_header=False, \n",
    "                      new_columns=[\"entity\",\"predicate\",\"entity_closure\"])\n",
    "           .drop(\"predicate\"))\n",
    "\n",
    "closure_id = closure.group_by(\"entity\").agg(pl.col(\"entity_closure\"))\n",
    "closure_label = closure.join(nodes.select([\"id\",\"name\"]).rename({\"name\":\"entity_closure_label\"}), \n",
    "                                left_on=\"entity_closure\", right_on=\"id\", how=\"left\").group_by(\"entity\").agg(pl.col(\"entity_closure_label\"))\n",
    "# add namespace by splitting id column on : and taking the first element\n",
    "nodes = nodes.with_columns([pl.col(\"id\").str.split(\":\").map_elements(lambda s: s[0]).alias(\"namespace\")])\n",
    "\n"
   ],
   "metadata": {
    "collapsed": false,
    "ExecuteTime": {
     "end_time": "2023-10-14T03:38:57.770025Z",
     "start_time": "2023-10-14T03:38:47.065302Z"
    }
   },
   "id": "539a1da600d3ed40"
  },
  {
   "cell_type": "code",
   "execution_count": null,
   "outputs": [],
   "source": [
    "%%time\n",
    "\n",
    "def add_node_attribute(field, attribute, edges, nodes):\n",
    "    return edges.join(nodes.select([\"id\",attribute]).rename({attribute:f\"{field}_{attribute}\"}), \n",
    "               left_on=field, right_on=\"id\", how=\"left\")\n",
    "\n",
    "def add_closure(field, edges, closure):\n",
    "    return edges.join(closure.rename({\"entity_closure\":f\"{field}_closure\"}), \n",
    "               left_on=field, right_on=\"entity\", how=\"left\")\n",
    "\n",
    "def add_closure_label(field, edges, closure_label):\n",
    "    return edges.join(closure_label.rename({\"entity_closure_label\":f\"{field}_closure_label\"}), \n",
    "               left_on=field, right_on=\"entity\", how=\"left\")\n",
    "\n",
    "def closurize(field, edges, nodes, closure):\n",
    "    edges = add_closure(field, edges, closure)\n",
    "    edges = add_closure_label(field, edges, closure_label)\n",
    "    for attribute in [\"namespace\", \"category\"]:\n",
    "        edges = add_node_attribute(field, attribute, edges, nodes)\n",
    "\n",
    "    return edges\n",
    "        \n",
    "for field in [\"subject\", \"object\"]:\n",
    "    edges = closurize(field, edges, nodes, closure)    \n",
    "    \n",
    "edges"
   ],
   "metadata": {
    "collapsed": false,
    "is_executing": true,
    "ExecuteTime": {
     "start_time": "2023-10-14T03:39:15.477802Z"
    }
   },
   "id": "2a9d63593e1ff266"
  },
  {
   "cell_type": "code",
   "execution_count": null,
   "outputs": [],
   "source": [
    "# add subject_category by joining subject to node id and getting the category column\n",
    "edges.join(nodes.select([\"id\",\"category\"]).rename({\"category\":\"subject_category\"}), left_on=\"subject\", right_on=\"id\", how=\"left\")\n"
   ],
   "metadata": {
    "collapsed": false
   },
   "id": "61c666130d41c90b"
  },
  {
   "cell_type": "code",
   "execution_count": null,
   "outputs": [],
   "source": [
    "closure_id\n"
   ],
   "metadata": {
    "collapsed": false
   },
   "id": "79f1b1e7194eeaf8"
  },
  {
   "cell_type": "code",
   "execution_count": null,
   "outputs": [],
   "source": [],
   "metadata": {
    "collapsed": false
   },
   "id": "82fbce7369ed2769"
  },
  {
   "cell_type": "code",
   "execution_count": null,
   "outputs": [],
   "source": [],
   "metadata": {
    "collapsed": false
   },
   "id": "10f7407fd4a7cb7d"
  }
 ],
 "metadata": {
  "kernelspec": {
   "display_name": "Python 3",
   "language": "python",
   "name": "python3"
  },
  "language_info": {
   "codemirror_mode": {
    "name": "ipython",
    "version": 2
   },
   "file_extension": ".py",
   "mimetype": "text/x-python",
   "name": "python",
   "nbconvert_exporter": "python",
   "pygments_lexer": "ipython2",
   "version": "2.7.6"
  }
 },
 "nbformat": 4,
 "nbformat_minor": 5
}
