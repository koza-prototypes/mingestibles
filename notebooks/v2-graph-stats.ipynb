{
 "cells": [
  {
   "cell_type": "code",
   "execution_count": 38,
   "id": "initial_id",
   "metadata": {
    "collapsed": true,
    "ExecuteTime": {
     "end_time": "2023-10-03T17:45:37.942972Z",
     "start_time": "2023-10-03T17:45:08.754483Z"
    }
   },
   "outputs": [
    {
     "name": "stdout",
     "output_type": "stream",
     "text": [
      "Requirement already satisfied: requests in /Users/kschaper/dipper-vs-mkg-graph-stats/venv/lib/python3.10/site-packages (2.31.0)\r\n",
      "Requirement already satisfied: charset-normalizer<4,>=2 in /Users/kschaper/dipper-vs-mkg-graph-stats/venv/lib/python3.10/site-packages (from requests) (3.2.0)\r\n",
      "Requirement already satisfied: idna<4,>=2.5 in /Users/kschaper/dipper-vs-mkg-graph-stats/venv/lib/python3.10/site-packages (from requests) (3.4)\r\n",
      "Requirement already satisfied: urllib3<3,>=1.21.1 in /Users/kschaper/dipper-vs-mkg-graph-stats/venv/lib/python3.10/site-packages (from requests) (2.0.5)\r\n",
      "Requirement already satisfied: certifi>=2017.4.17 in /Users/kschaper/dipper-vs-mkg-graph-stats/venv/lib/python3.10/site-packages (from requests) (2023.7.22)\r\n",
      "\r\n",
      "\u001B[1m[\u001B[0m\u001B[34;49mnotice\u001B[0m\u001B[1;39;49m]\u001B[0m\u001B[39;49m A new release of pip is available: \u001B[0m\u001B[31;49m23.1.2\u001B[0m\u001B[39;49m -> \u001B[0m\u001B[32;49m23.2.1\u001B[0m\r\n",
      "\u001B[1m[\u001B[0m\u001B[34;49mnotice\u001B[0m\u001B[1;39;49m]\u001B[0m\u001B[39;49m To update, run: \u001B[0m\u001B[32;49mpip install --upgrade pip\u001B[0m\r\n",
      "Requirement already satisfied: pandas in /Users/kschaper/dipper-vs-mkg-graph-stats/venv/lib/python3.10/site-packages (2.1.1)\r\n",
      "Requirement already satisfied: numpy>=1.22.4 in /Users/kschaper/dipper-vs-mkg-graph-stats/venv/lib/python3.10/site-packages (from pandas) (1.26.0)\r\n",
      "Requirement already satisfied: python-dateutil>=2.8.2 in /Users/kschaper/dipper-vs-mkg-graph-stats/venv/lib/python3.10/site-packages (from pandas) (2.8.2)\r\n",
      "Requirement already satisfied: pytz>=2020.1 in /Users/kschaper/dipper-vs-mkg-graph-stats/venv/lib/python3.10/site-packages (from pandas) (2023.3.post1)\r\n",
      "Requirement already satisfied: tzdata>=2022.1 in /Users/kschaper/dipper-vs-mkg-graph-stats/venv/lib/python3.10/site-packages (from pandas) (2023.3)\r\n",
      "Requirement already satisfied: six>=1.5 in /Users/kschaper/dipper-vs-mkg-graph-stats/venv/lib/python3.10/site-packages (from python-dateutil>=2.8.2->pandas) (1.16.0)\r\n",
      "\r\n",
      "\u001B[1m[\u001B[0m\u001B[34;49mnotice\u001B[0m\u001B[1;39;49m]\u001B[0m\u001B[39;49m A new release of pip is available: \u001B[0m\u001B[31;49m23.1.2\u001B[0m\u001B[39;49m -> \u001B[0m\u001B[32;49m23.2.1\u001B[0m\r\n",
      "\u001B[1m[\u001B[0m\u001B[34;49mnotice\u001B[0m\u001B[1;39;49m]\u001B[0m\u001B[39;49m To update, run: \u001B[0m\u001B[32;49mpip install --upgrade pip\u001B[0m\r\n",
      "Collecting linkml_runtime\r\n",
      "  Downloading linkml_runtime-1.6.0-py3-none-any.whl (539 kB)\r\n",
      "\u001B[2K     \u001B[38;2;114;156;31m━━━━━━━━━━━━━━━━━━━━━━━━━━━━━━━━━━━━━━━\u001B[0m \u001B[32m539.2/539.2 kB\u001B[0m \u001B[31m6.8 MB/s\u001B[0m eta \u001B[36m0:00:00\u001B[0mm eta \u001B[36m0:00:01\u001B[0m0:01\u001B[0m\r\n",
      "\u001B[?25hCollecting click (from linkml_runtime)\r\n",
      "  Using cached click-8.1.7-py3-none-any.whl (97 kB)\r\n",
      "Collecting curies>=0.5.4 (from linkml_runtime)\r\n",
      "  Downloading curies-0.6.4-py3-none-any.whl (33 kB)\r\n",
      "Collecting deprecated (from linkml_runtime)\r\n",
      "  Using cached Deprecated-1.2.14-py2.py3-none-any.whl (9.6 kB)\r\n",
      "Collecting hbreader (from linkml_runtime)\r\n",
      "  Using cached hbreader-0.9.1-py3-none-any.whl (7.6 kB)\r\n",
      "Collecting json-flattener>=0.1.9 (from linkml_runtime)\r\n",
      "  Using cached json_flattener-0.1.9-py3-none-any.whl (10 kB)\r\n",
      "Collecting jsonasobj2<2.dev0,>=1.0.4 (from linkml_runtime)\r\n",
      "  Using cached jsonasobj2-1.0.4-py3-none-any.whl (6.3 kB)\r\n",
      "Requirement already satisfied: jsonschema>=3.2.0 in /Users/kschaper/dipper-vs-mkg-graph-stats/venv/lib/python3.10/site-packages (from linkml_runtime) (4.19.1)\r\n",
      "Collecting prefixcommons>=0.1.12 (from linkml_runtime)\r\n",
      "  Using cached prefixcommons-0.1.12-py3-none-any.whl (29 kB)\r\n",
      "Collecting prefixmaps>=0.1.4 (from linkml_runtime)\r\n",
      "  Using cached prefixmaps-0.1.5-py3-none-any.whl (232 kB)\r\n",
      "Collecting pydantic<3.0.0,>=1.10.2 (from linkml_runtime)\r\n",
      "  Downloading pydantic-2.4.2-py3-none-any.whl (395 kB)\r\n",
      "\u001B[2K     \u001B[38;2;114;156;31m━━━━━━━━━━━━━━━━━━━━━━━━━━━━━━━━━━━━━━\u001B[0m \u001B[32m395.8/395.8 kB\u001B[0m \u001B[31m24.0 MB/s\u001B[0m eta \u001B[36m0:00:00\u001B[0m\r\n",
      "\u001B[?25hRequirement already satisfied: pyyaml in /Users/kschaper/dipper-vs-mkg-graph-stats/venv/lib/python3.10/site-packages (from linkml_runtime) (6.0.1)\r\n",
      "Collecting rdflib>=6.0.0 (from linkml_runtime)\r\n",
      "  Using cached rdflib-7.0.0-py3-none-any.whl (531 kB)\r\n",
      "Requirement already satisfied: requests in /Users/kschaper/dipper-vs-mkg-graph-stats/venv/lib/python3.10/site-packages (from linkml_runtime) (2.31.0)\r\n",
      "Collecting pytrie (from curies>=0.5.4->linkml_runtime)\r\n",
      "  Using cached PyTrie-0.4.0-py3-none-any.whl\r\n",
      "Requirement already satisfied: attrs>=22.2.0 in /Users/kschaper/dipper-vs-mkg-graph-stats/venv/lib/python3.10/site-packages (from jsonschema>=3.2.0->linkml_runtime) (23.1.0)\r\n",
      "Requirement already satisfied: jsonschema-specifications>=2023.03.6 in /Users/kschaper/dipper-vs-mkg-graph-stats/venv/lib/python3.10/site-packages (from jsonschema>=3.2.0->linkml_runtime) (2023.7.1)\r\n",
      "Requirement already satisfied: referencing>=0.28.4 in /Users/kschaper/dipper-vs-mkg-graph-stats/venv/lib/python3.10/site-packages (from jsonschema>=3.2.0->linkml_runtime) (0.30.2)\r\n",
      "Requirement already satisfied: rpds-py>=0.7.1 in /Users/kschaper/dipper-vs-mkg-graph-stats/venv/lib/python3.10/site-packages (from jsonschema>=3.2.0->linkml_runtime) (0.10.3)\r\n",
      "Collecting pytest-logging<2016.0.0,>=2015.11.4 (from prefixcommons>=0.1.12->linkml_runtime)\r\n",
      "  Using cached pytest_logging-2015.11.4-py3-none-any.whl\r\n",
      "Collecting greenlet==2.0.1 (from prefixmaps>=0.1.4->linkml_runtime)\r\n",
      "  Using cached greenlet-2.0.1.tar.gz (163 kB)\r\n",
      "  Preparing metadata (setup.py) ... \u001B[?25ldone\r\n",
      "\u001B[?25hCollecting importlib-metadata>=1.0.0 (from prefixmaps>=0.1.4->linkml_runtime)\r\n",
      "  Using cached importlib_metadata-6.8.0-py3-none-any.whl (22 kB)\r\n",
      "Requirement already satisfied: typing-extensions<5.0.0,>=4.4.0 in /Users/kschaper/dipper-vs-mkg-graph-stats/venv/lib/python3.10/site-packages (from prefixmaps>=0.1.4->linkml_runtime) (4.8.0)\r\n",
      "Collecting annotated-types>=0.4.0 (from pydantic<3.0.0,>=1.10.2->linkml_runtime)\r\n",
      "  Using cached annotated_types-0.5.0-py3-none-any.whl (11 kB)\r\n",
      "Collecting pydantic-core==2.10.1 (from pydantic<3.0.0,>=1.10.2->linkml_runtime)\r\n",
      "  Downloading pydantic_core-2.10.1-cp310-cp310-macosx_11_0_arm64.whl (1.7 MB)\r\n",
      "\u001B[2K     \u001B[38;2;114;156;31m━━━━━━━━━━━━━━━━━━━━━━━━━━━━━━━━━━━━━━━━\u001B[0m \u001B[32m1.7/1.7 MB\u001B[0m \u001B[31m14.2 MB/s\u001B[0m eta \u001B[36m0:00:00\u001B[0m MB/s\u001B[0m eta \u001B[36m0:00:01\u001B[0m\r\n",
      "\u001B[?25hCollecting isodate<0.7.0,>=0.6.0 (from rdflib>=6.0.0->linkml_runtime)\r\n",
      "  Using cached isodate-0.6.1-py2.py3-none-any.whl (41 kB)\r\n",
      "Collecting pyparsing<4,>=2.1.0 (from rdflib>=6.0.0->linkml_runtime)\r\n",
      "  Using cached pyparsing-3.1.1-py3-none-any.whl (103 kB)\r\n",
      "Requirement already satisfied: charset-normalizer<4,>=2 in /Users/kschaper/dipper-vs-mkg-graph-stats/venv/lib/python3.10/site-packages (from requests->linkml_runtime) (3.2.0)\r\n",
      "Requirement already satisfied: idna<4,>=2.5 in /Users/kschaper/dipper-vs-mkg-graph-stats/venv/lib/python3.10/site-packages (from requests->linkml_runtime) (3.4)\r\n",
      "Requirement already satisfied: urllib3<3,>=1.21.1 in /Users/kschaper/dipper-vs-mkg-graph-stats/venv/lib/python3.10/site-packages (from requests->linkml_runtime) (2.0.5)\r\n",
      "Requirement already satisfied: certifi>=2017.4.17 in /Users/kschaper/dipper-vs-mkg-graph-stats/venv/lib/python3.10/site-packages (from requests->linkml_runtime) (2023.7.22)\r\n",
      "Collecting wrapt<2,>=1.10 (from deprecated->linkml_runtime)\r\n",
      "  Using cached wrapt-1.15.0-cp310-cp310-macosx_11_0_arm64.whl (36 kB)\r\n",
      "Collecting zipp>=0.5 (from importlib-metadata>=1.0.0->prefixmaps>=0.1.4->linkml_runtime)\r\n",
      "  Using cached zipp-3.17.0-py3-none-any.whl (7.4 kB)\r\n",
      "Requirement already satisfied: six in /Users/kschaper/dipper-vs-mkg-graph-stats/venv/lib/python3.10/site-packages (from isodate<0.7.0,>=0.6.0->rdflib>=6.0.0->linkml_runtime) (1.16.0)\r\n",
      "Collecting pytest>=2.8.1 (from pytest-logging<2016.0.0,>=2015.11.4->prefixcommons>=0.1.12->linkml_runtime)\r\n",
      "  Using cached pytest-7.4.2-py3-none-any.whl (324 kB)\r\n",
      "Collecting sortedcontainers (from pytrie->curies>=0.5.4->linkml_runtime)\r\n",
      "  Using cached sortedcontainers-2.4.0-py2.py3-none-any.whl (29 kB)\r\n",
      "Collecting iniconfig (from pytest>=2.8.1->pytest-logging<2016.0.0,>=2015.11.4->prefixcommons>=0.1.12->linkml_runtime)\r\n",
      "  Using cached iniconfig-2.0.0-py3-none-any.whl (5.9 kB)\r\n",
      "Requirement already satisfied: packaging in /Users/kschaper/dipper-vs-mkg-graph-stats/venv/lib/python3.10/site-packages (from pytest>=2.8.1->pytest-logging<2016.0.0,>=2015.11.4->prefixcommons>=0.1.12->linkml_runtime) (23.1)\r\n",
      "Collecting pluggy<2.0,>=0.12 (from pytest>=2.8.1->pytest-logging<2016.0.0,>=2015.11.4->prefixcommons>=0.1.12->linkml_runtime)\r\n",
      "  Using cached pluggy-1.3.0-py3-none-any.whl (18 kB)\r\n",
      "Requirement already satisfied: exceptiongroup>=1.0.0rc8 in /Users/kschaper/dipper-vs-mkg-graph-stats/venv/lib/python3.10/site-packages (from pytest>=2.8.1->pytest-logging<2016.0.0,>=2015.11.4->prefixcommons>=0.1.12->linkml_runtime) (1.1.3)\r\n",
      "Requirement already satisfied: tomli>=1.0.0 in /Users/kschaper/dipper-vs-mkg-graph-stats/venv/lib/python3.10/site-packages (from pytest>=2.8.1->pytest-logging<2016.0.0,>=2015.11.4->prefixcommons>=0.1.12->linkml_runtime) (2.0.1)\r\n",
      "Building wheels for collected packages: greenlet\r\n",
      "  Building wheel for greenlet (setup.py) ... \u001B[?25ldone\r\n",
      "\u001B[?25h  Created wheel for greenlet: filename=greenlet-2.0.1-cp310-cp310-macosx_12_0_arm64.whl size=198160 sha256=7a0bb4792f1d1ada4969249bf474068f3456b9ae8577537f8c9d8978677d2b43\r\n",
      "  Stored in directory: /Users/kschaper/Library/Caches/pip/wheels/d7/d1/21/1c8c8920d0c9bf1d864e36795d1f0016c10d9ecdcba15fe5d2\r\n",
      "Successfully built greenlet\r\n",
      "Installing collected packages: sortedcontainers, zipp, wrapt, pytrie, pyparsing, pydantic-core, pluggy, isodate, iniconfig, hbreader, greenlet, click, annotated-types, rdflib, pytest, pydantic, jsonasobj2, json-flattener, importlib-metadata, deprecated, pytest-logging, prefixmaps, curies, prefixcommons, linkml_runtime\r\n",
      "Successfully installed annotated-types-0.5.0 click-8.1.7 curies-0.6.4 deprecated-1.2.14 greenlet-2.0.1 hbreader-0.9.1 importlib-metadata-6.8.0 iniconfig-2.0.0 isodate-0.6.1 json-flattener-0.1.9 jsonasobj2-1.0.4 linkml_runtime-1.6.0 pluggy-1.3.0 prefixcommons-0.1.12 prefixmaps-0.1.5 pydantic-2.4.2 pydantic-core-2.10.1 pyparsing-3.1.1 pytest-7.4.2 pytest-logging-2015.11.4 pytrie-0.4.0 rdflib-7.0.0 sortedcontainers-2.4.0 wrapt-1.15.0 zipp-3.17.0\r\n",
      "\r\n",
      "\u001B[1m[\u001B[0m\u001B[34;49mnotice\u001B[0m\u001B[1;39;49m]\u001B[0m\u001B[39;49m A new release of pip is available: \u001B[0m\u001B[31;49m23.1.2\u001B[0m\u001B[39;49m -> \u001B[0m\u001B[32;49m23.2.1\u001B[0m\r\n",
      "\u001B[1m[\u001B[0m\u001B[34;49mnotice\u001B[0m\u001B[1;39;49m]\u001B[0m\u001B[39;49m To update, run: \u001B[0m\u001B[32;49mpip install --upgrade pip\u001B[0m\r\n"
     ]
    }
   ],
   "source": [
    "#!pip install requests\n",
    "#!pip install pandas\n",
    "#!pip install linkml_runtime"
   ]
  },
  {
   "cell_type": "code",
   "execution_count": 1,
   "outputs": [],
   "source": [
    "import requests\n",
    "import pandas as pd\n",
    "from linkml_runtime import SchemaView\n",
    "from linkml_runtime.utils.formatutils import camelcase\n",
    "\n",
    "biolink = SchemaView(\n",
    "    f\"https://raw.githubusercontent.com/biolink/biolink-model/v3.5.4/biolink-model.yaml\")\n",
    "\n",
    "v2_edge_url = 'http://solr.monarchinitiative.org/solr/golr/select?wt=json&q=*:*&rows=0&facet=true'\n",
    "v2_node_url = 'http://solr.monarchinitiative.org/solr/search/select?wt=json&q=*:*&rows=0&facet=true'"
   ],
   "metadata": {
    "collapsed": false,
    "ExecuteTime": {
     "end_time": "2023-10-23T23:13:43.889618Z",
     "start_time": "2023-10-23T23:13:41.542822Z"
    }
   },
   "id": "923a6ab63eac8305"
  },
  {
   "cell_type": "code",
   "execution_count": 2,
   "outputs": [
    {
     "data": {
      "text/plain": "                  category              taxon_label   count\n0         sequence feature             Homo sapiens  664846\n1         sequence feature             Mus musculus  306907\n2         sequence feature  Drosophila melanogaster  224482\n3         sequence feature               Bos taurus  204846\n4         sequence feature   Caenorhabditis elegans   76760\n..                     ...                      ...     ...\n394                   case                     None      39\n395            inheritance                     None      32\n396            association                     None       2\n397                dataset                     None       1\n398  reagent targeted gene                     None       1\n\n[399 rows x 3 columns]",
      "text/html": "<div>\n<style scoped>\n    .dataframe tbody tr th:only-of-type {\n        vertical-align: middle;\n    }\n\n    .dataframe tbody tr th {\n        vertical-align: top;\n    }\n\n    .dataframe thead th {\n        text-align: right;\n    }\n</style>\n<table border=\"1\" class=\"dataframe\">\n  <thead>\n    <tr style=\"text-align: right;\">\n      <th></th>\n      <th>category</th>\n      <th>taxon_label</th>\n      <th>count</th>\n    </tr>\n  </thead>\n  <tbody>\n    <tr>\n      <th>0</th>\n      <td>sequence feature</td>\n      <td>Homo sapiens</td>\n      <td>664846</td>\n    </tr>\n    <tr>\n      <th>1</th>\n      <td>sequence feature</td>\n      <td>Mus musculus</td>\n      <td>306907</td>\n    </tr>\n    <tr>\n      <th>2</th>\n      <td>sequence feature</td>\n      <td>Drosophila melanogaster</td>\n      <td>224482</td>\n    </tr>\n    <tr>\n      <th>3</th>\n      <td>sequence feature</td>\n      <td>Bos taurus</td>\n      <td>204846</td>\n    </tr>\n    <tr>\n      <th>4</th>\n      <td>sequence feature</td>\n      <td>Caenorhabditis elegans</td>\n      <td>76760</td>\n    </tr>\n    <tr>\n      <th>...</th>\n      <td>...</td>\n      <td>...</td>\n      <td>...</td>\n    </tr>\n    <tr>\n      <th>394</th>\n      <td>case</td>\n      <td>None</td>\n      <td>39</td>\n    </tr>\n    <tr>\n      <th>395</th>\n      <td>inheritance</td>\n      <td>None</td>\n      <td>32</td>\n    </tr>\n    <tr>\n      <th>396</th>\n      <td>association</td>\n      <td>None</td>\n      <td>2</td>\n    </tr>\n    <tr>\n      <th>397</th>\n      <td>dataset</td>\n      <td>None</td>\n      <td>1</td>\n    </tr>\n    <tr>\n      <th>398</th>\n      <td>reagent targeted gene</td>\n      <td>None</td>\n      <td>1</td>\n    </tr>\n  </tbody>\n</table>\n<p>399 rows × 3 columns</p>\n</div>"
     },
     "execution_count": 2,
     "metadata": {},
     "output_type": "execute_result"
    }
   ],
   "source": [
    "node_pivot = \"category,taxon_label\"\n",
    "node_response = requests.get(f\"{v2_node_url}&facet.pivot={node_pivot}\").json()['facet_counts']['facet_pivot'][node_pivot]\n",
    "\n",
    "\n",
    "node_counts = []\n",
    "for category in node_response:     \n",
    "    if 'pivot' in category:\n",
    "        for taxon in category['pivot']:        \n",
    "            node_counts.append({\n",
    "                \"category\": category[\"value\"],\n",
    "                \"taxon_label\": taxon['value'],\n",
    "                \"count\": taxon['count']\n",
    "            })\n",
    "    else:\n",
    "        node_counts.append({\n",
    "            \"category\": category[\"value\"],\n",
    "            \"taxon_label\": None,\n",
    "            \"count\": category['count']\n",
    "        })\n",
    "\n",
    "node_counts_df = pd.DataFrame(node_counts)\n",
    "node_counts_df"
   ],
   "metadata": {
    "collapsed": false,
    "ExecuteTime": {
     "end_time": "2023-10-23T23:13:47.487701Z",
     "start_time": "2023-10-23T23:13:46.127961Z"
    }
   },
   "id": "f36781bad21c142d"
  },
  {
   "cell_type": "code",
   "execution_count": 3,
   "outputs": [
    {
     "data": {
      "text/plain": "array(['variant locus', 'phenotypic_marker', 'evidence', 'chromosome',\n       'ObjectProperty', 'clinical_course', 'AnnotationProperty',\n       'DatatypeProperty'], dtype=object)"
     },
     "execution_count": 3,
     "metadata": {},
     "output_type": "execute_result"
    }
   ],
   "source": [
    "\n",
    "def convert_node_category(value: str):\n",
    "    if biolink.get_class(value):\n",
    "        return 'biolink:' + camelcase(biolink.get_class(value).name)\n",
    "\n",
    "    for k,v in biolink.all_aliases().items():\n",
    "        if value in v:\n",
    "            return 'biolink:' + camelcase(k)\n",
    "\n",
    "    mappings = {\n",
    "        'variant': 'biolink:SequenceVariant',\n",
    "        'sequence alteration': 'biolink:SequenceVariant',\n",
    "        'quality': 'biolink:PhenotypicFeature',\n",
    "        'cellular process': 'biolink:BiologicalProcess'\n",
    "    }\n",
    "    if value in mappings:\n",
    "        return mappings[value]\n",
    "    \n",
    "    return None\n",
    "\n",
    "node_counts_df[\"biolink_category\"] = node_counts_df['category'].apply(convert_node_category)\n",
    "\n",
    "node_counts_df[node_counts_df['biolink_category'].isna()][\"category\"].unique()"
   ],
   "metadata": {
    "collapsed": false,
    "ExecuteTime": {
     "end_time": "2023-10-23T23:13:54.935136Z",
     "start_time": "2023-10-23T23:13:54.906145Z"
    }
   },
   "id": "f61faaef9dd3e3b5"
  },
  {
   "cell_type": "code",
   "execution_count": 4,
   "outputs": [
    {
     "data": {
      "text/plain": "                  category              taxon_label   count  \\\n0         sequence feature             Homo sapiens  664846   \n1         sequence feature             Mus musculus  306907   \n2         sequence feature  Drosophila melanogaster  224482   \n3         sequence feature               Bos taurus  204846   \n4         sequence feature   Caenorhabditis elegans   76760   \n..                     ...                      ...     ...   \n394                   case                     None      39   \n395            inheritance                     None      32   \n396            association                     None       2   \n397                dataset                     None       1   \n398  reagent targeted gene                     None       1   \n\n                biolink_category  \n0      biolink:NucleicAcidEntity  \n1      biolink:NucleicAcidEntity  \n2      biolink:NucleicAcidEntity  \n3      biolink:NucleicAcidEntity  \n4      biolink:NucleicAcidEntity  \n..                           ...  \n394                 biolink:Case  \n395   biolink:GeneticInheritance  \n396          biolink:Association  \n397              biolink:Dataset  \n398  biolink:ReagentTargetedGene  \n\n[399 rows x 4 columns]",
      "text/html": "<div>\n<style scoped>\n    .dataframe tbody tr th:only-of-type {\n        vertical-align: middle;\n    }\n\n    .dataframe tbody tr th {\n        vertical-align: top;\n    }\n\n    .dataframe thead th {\n        text-align: right;\n    }\n</style>\n<table border=\"1\" class=\"dataframe\">\n  <thead>\n    <tr style=\"text-align: right;\">\n      <th></th>\n      <th>category</th>\n      <th>taxon_label</th>\n      <th>count</th>\n      <th>biolink_category</th>\n    </tr>\n  </thead>\n  <tbody>\n    <tr>\n      <th>0</th>\n      <td>sequence feature</td>\n      <td>Homo sapiens</td>\n      <td>664846</td>\n      <td>biolink:NucleicAcidEntity</td>\n    </tr>\n    <tr>\n      <th>1</th>\n      <td>sequence feature</td>\n      <td>Mus musculus</td>\n      <td>306907</td>\n      <td>biolink:NucleicAcidEntity</td>\n    </tr>\n    <tr>\n      <th>2</th>\n      <td>sequence feature</td>\n      <td>Drosophila melanogaster</td>\n      <td>224482</td>\n      <td>biolink:NucleicAcidEntity</td>\n    </tr>\n    <tr>\n      <th>3</th>\n      <td>sequence feature</td>\n      <td>Bos taurus</td>\n      <td>204846</td>\n      <td>biolink:NucleicAcidEntity</td>\n    </tr>\n    <tr>\n      <th>4</th>\n      <td>sequence feature</td>\n      <td>Caenorhabditis elegans</td>\n      <td>76760</td>\n      <td>biolink:NucleicAcidEntity</td>\n    </tr>\n    <tr>\n      <th>...</th>\n      <td>...</td>\n      <td>...</td>\n      <td>...</td>\n      <td>...</td>\n    </tr>\n    <tr>\n      <th>394</th>\n      <td>case</td>\n      <td>None</td>\n      <td>39</td>\n      <td>biolink:Case</td>\n    </tr>\n    <tr>\n      <th>395</th>\n      <td>inheritance</td>\n      <td>None</td>\n      <td>32</td>\n      <td>biolink:GeneticInheritance</td>\n    </tr>\n    <tr>\n      <th>396</th>\n      <td>association</td>\n      <td>None</td>\n      <td>2</td>\n      <td>biolink:Association</td>\n    </tr>\n    <tr>\n      <th>397</th>\n      <td>dataset</td>\n      <td>None</td>\n      <td>1</td>\n      <td>biolink:Dataset</td>\n    </tr>\n    <tr>\n      <th>398</th>\n      <td>reagent targeted gene</td>\n      <td>None</td>\n      <td>1</td>\n      <td>biolink:ReagentTargetedGene</td>\n    </tr>\n  </tbody>\n</table>\n<p>399 rows × 4 columns</p>\n</div>"
     },
     "execution_count": 4,
     "metadata": {},
     "output_type": "execute_result"
    }
   ],
   "source": [
    "node_counts_df"
   ],
   "metadata": {
    "collapsed": false,
    "ExecuteTime": {
     "end_time": "2023-10-23T23:13:59.104697Z",
     "start_time": "2023-10-23T23:13:59.099707Z"
    }
   },
   "id": "892b7486efddeb09"
  },
  {
   "cell_type": "code",
   "execution_count": 5,
   "outputs": [
    {
     "name": "stdout",
     "output_type": "stream",
     "text": [
      "'gene_homology': 'biolink:_Association',\n",
      "'publication_gene': 'biolink:_Association',\n",
      "'publication_variant': 'biolink:_Association',\n",
      "'gene_interaction': 'biolink:_Association',\n",
      "'gene_function': 'biolink:_Association',\n",
      "'gene_anatomy': 'biolink:_Association',\n",
      "'variant_phenotype': 'biolink:_Association',\n",
      "'variant_gene': 'biolink:_Association',\n",
      "'gene_phenotype': 'biolink:_Association',\n",
      "'model_gene': 'biolink:_Association',\n",
      "'pathway_phenotype': 'biolink:_Association',\n",
      "'variant_genotype': 'biolink:_Association',\n",
      "'genotype_phenotype': 'biolink:_Association',\n",
      "'publication_phenotype': 'biolink:_Association',\n",
      "'gene_pathway': 'biolink:_Association',\n",
      "'publication_disease': 'biolink:_Association',\n",
      "'genotype_gene': 'biolink:_Association',\n",
      "'variant_disease': 'biolink:_Association',\n",
      "'disease_phenotype': 'biolink:_Association',\n",
      "'publication_genotype': 'biolink:_Association',\n",
      "'publication_model': 'biolink:_Association',\n",
      "'model_variant': 'biolink:_Association',\n",
      "'model_disease': 'biolink:_Association',\n",
      "'disease_pathway': 'biolink:_Association',\n",
      "'model_case': 'biolink:_Association',\n",
      "'marker_disease': 'biolink:_Association',\n",
      "'chemical_disease': 'biolink:_Association',\n",
      "'genotype_disease': 'biolink:_Association',\n",
      "'gene_disease': 'biolink:_Association',\n",
      "'case_genotype': 'biolink:_Association',\n",
      "'model_genotype': 'biolink:_Association',\n",
      "'case_phenotype': 'biolink:_Association',\n",
      "'case_variant': 'biolink:_Association',\n",
      "'case_gene': 'biolink:_Association',\n"
     ]
    }
   ],
   "source": [
    "response = requests.get(v2_edge_url + \"&facet.pivot=association_type\").json()['facet_counts']['facet_pivot']['association_type']\n",
    "edge_counts_df = pd.DataFrame(response).drop(\"field\",axis=1).rename(columns={\"value\":\"category\"})\n",
    "\n",
    "def convert_edge_category(value: str):\n",
    "    mappings = {\n",
    "        'gene_homology': 'biolink:GeneToGeneHomologyAssociation',\n",
    "        'publication_gene': 'biolink:InformationContentEntityToNamedThingAssociation',\n",
    "        'publication_variant': 'biolink:InformationContentEntityToNamedThingAssociation',\n",
    "        'gene_interaction': 'biolink:PairwiseGeneToGeneInteraction',\n",
    "        'gene_function': 'biolink:_Association',\n",
    "        'gene_anatomy': 'biolink:_Association',\n",
    "        'variant_phenotype': 'biolink:_Association',\n",
    "        'variant_gene': 'biolink:_Association',\n",
    "        'gene_phenotype': 'biolink:_Association',\n",
    "        'model_gene': 'biolink:_Association',\n",
    "        'pathway_phenotype': 'biolink:_Association',\n",
    "        'variant_genotype': 'biolink:_Association',\n",
    "        'genotype_phenotype': 'biolink:_Association',\n",
    "        'publication_phenotype': 'biolink:_Association',\n",
    "        'gene_pathway': 'biolink:_Association',\n",
    "        'publication_disease': 'biolink:_Association',\n",
    "        'genotype_gene': 'biolink:_Association',\n",
    "        'variant_disease': 'biolink:_Association',\n",
    "        'disease_phenotype': 'biolink:_Association',\n",
    "        'publication_genotype': 'biolink:_Association',\n",
    "        'publication_model': 'biolink:_Association',\n",
    "        'model_variant': 'biolink:_Association',\n",
    "        'model_disease': 'biolink:_Association',\n",
    "        'disease_pathway': 'biolink:_Association',\n",
    "        'model_case': 'biolink:_Association',\n",
    "        'marker_disease': 'biolink:_Association',\n",
    "        'chemical_disease': 'biolink:_Association',\n",
    "        'genotype_disease': 'biolink:_Association',\n",
    "        'gene_disease': 'biolink:_Association',\n",
    "        'case_genotype': 'biolink:_Association',\n",
    "        'model_genotype': 'biolink:_Association',\n",
    "        'case_phenotype': 'biolink:_Association',\n",
    "        'case_variant': 'biolink:_Association',\n",
    "        'case_gene': 'biolink:_Association',\n",
    "    }\n",
    "    if value in mappings:\n",
    "        return mappings[value]\n",
    "\n",
    "    return None\n",
    "\n",
    "edge_counts_df[\"biolink_category\"] = edge_counts_df['category'].apply(convert_edge_category)\n",
    "for category in edge_counts_df[\"category\"]:\n",
    "    print(f\"'{category}': 'biolink:_Association',\")\n",
    "\n",
    "# edge_counts_df"
   ],
   "metadata": {
    "collapsed": false,
    "ExecuteTime": {
     "end_time": "2023-10-23T23:14:10.937887Z",
     "start_time": "2023-10-23T23:14:08.774557Z"
    }
   },
   "id": "fef04c80692ec9c3"
  },
  {
   "cell_type": "code",
   "execution_count": 6,
   "outputs": [
    {
     "data": {
      "text/plain": "['biolink:GeneToGeneAssociation',\n 'biolink:GeneToGeneHomologyAssociation',\n 'biolink:GeneToGeneFamilyAssociation',\n 'biolink:GeneToGeneCoexpressionAssociation',\n 'biolink:PairwiseGeneToGeneInteraction',\n 'biolink:GeneToGeneProductRelationship']"
     },
     "execution_count": 6,
     "metadata": {},
     "output_type": "execute_result"
    }
   ],
   "source": [
    "[\"biolink:\" + camelcase(c) for c in biolink.all_classes() if \"gene to gene\" in c.lower()]"
   ],
   "metadata": {
    "collapsed": false,
    "ExecuteTime": {
     "end_time": "2023-10-23T23:14:13.188067Z",
     "start_time": "2023-10-23T23:14:13.183507Z"
    }
   },
   "id": "f6a0c80c2d181d36"
  },
  {
   "cell_type": "code",
   "execution_count": null,
   "outputs": [],
   "source": [],
   "metadata": {
    "collapsed": false
   },
   "id": "b9eae4d17f6cfc74"
  }
 ],
 "metadata": {
  "kernelspec": {
   "display_name": "Python 3",
   "language": "python",
   "name": "python3"
  },
  "language_info": {
   "codemirror_mode": {
    "name": "ipython",
    "version": 2
   },
   "file_extension": ".py",
   "mimetype": "text/x-python",
   "name": "python",
   "nbconvert_exporter": "python",
   "pygments_lexer": "ipython2",
   "version": "2.7.6"
  }
 },
 "nbformat": 4,
 "nbformat_minor": 5
}
